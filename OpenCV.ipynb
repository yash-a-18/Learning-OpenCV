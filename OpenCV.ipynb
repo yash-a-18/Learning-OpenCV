{
 "cells": [
  {
   "cell_type": "code",
   "execution_count": 1,
   "id": "spread-slope",
   "metadata": {},
   "outputs": [],
   "source": [
    "import cv2"
   ]
  },
  {
   "cell_type": "code",
   "execution_count": 2,
   "id": "incorporated-height",
   "metadata": {},
   "outputs": [
    {
     "data": {
      "text/plain": [
       "'4.0.1'"
      ]
     },
     "execution_count": 2,
     "metadata": {},
     "output_type": "execute_result"
    }
   ],
   "source": [
    "cv2.__version__"
   ]
  },
  {
   "cell_type": "markdown",
   "id": "fresh-property",
   "metadata": {},
   "source": [
    "### Read and Write Image"
   ]
  },
  {
   "cell_type": "markdown",
   "id": "middle-forestry",
   "metadata": {},
   "source": [
    "- *`cv2.imread() does not give error even if we give wrong image name as input.`*\n",
    "- For wrong file name *img* variable will have **None** value"
   ]
  },
  {
   "cell_type": "code",
   "execution_count": 3,
   "id": "english-bobby",
   "metadata": {},
   "outputs": [
    {
     "name": "stdout",
     "output_type": "stream",
     "text": [
      "cv2.IMREAD_UNCHANGED -1\n"
     ]
    }
   ],
   "source": [
    "#Second argument is flag\n",
    "img = cv2.imread('lena.jpg',-1) #As it is\n",
    "print('cv2.IMREAD_UNCHANGED',cv2.IMREAD_UNCHANGED)\n",
    "\n",
    "cv2.imshow('image',img) #for showing image and 'image' is window name\n",
    "cv2.waitKey(10000) # waiting for image to show i.e. image will be shown for 10 seconds further i.e. 10,000 ms\n",
    "cv2.destroyAllWindows() #destorying all windows"
   ]
  },
  {
   "cell_type": "code",
   "execution_count": 4,
   "id": "whole-surface",
   "metadata": {},
   "outputs": [
    {
     "name": "stdout",
     "output_type": "stream",
     "text": [
      "cv2.IMREAD_GRAYSCALE 0\n"
     ]
    }
   ],
   "source": [
    "img = cv2.imread('lena.jpg',0) #Grayscale\n",
    "print('cv2.IMREAD_GRAYSCALE',cv2.IMREAD_GRAYSCALE)\n",
    "\n",
    "cv2.imshow('image',img) #for showing image and 'image' is window name\n",
    "cv2.waitKey(10000) # waiting for image to show i.e. image will be shown for 10 seconds further i.e. 10,000 ms\n",
    "cv2.destroyAllWindows() #destorying all windows"
   ]
  },
  {
   "cell_type": "code",
   "execution_count": 5,
   "id": "straight-grenada",
   "metadata": {},
   "outputs": [
    {
     "name": "stdout",
     "output_type": "stream",
     "text": [
      "cv2.IMREAD_COLOR 1\n"
     ]
    }
   ],
   "source": [
    "img = cv2.imread('lena.jpg',1) #Color\n",
    "print('cv2.IMREAD_COLOR',cv2.IMREAD_COLOR)\n",
    "\n",
    "cv2.imshow('image',img) #for showing image and 'image' is window name\n",
    "cv2.waitKey(10000) # waiting for image to show i.e. image will be shown for 10 seconds further i.e. 10,000 ms\n",
    "cv2.destroyAllWindows() #destorying all windows"
   ]
  },
  {
   "cell_type": "markdown",
   "id": "historic-lightning",
   "metadata": {},
   "source": [
    "**Fun Fact**\n",
    "- If we give \"zero\" as an argument to waitKey(), than it will show image for infinite time *until we click close button*"
   ]
  },
  {
   "cell_type": "markdown",
   "id": "suffering-equipment",
   "metadata": {},
   "source": [
    "**Question**\n",
    "- What is the difference between already coloured image and cv2.IMREAD_COLOR?"
   ]
  },
  {
   "cell_type": "code",
   "execution_count": 6,
   "id": "suburban-establishment",
   "metadata": {},
   "outputs": [
    {
     "data": {
      "text/plain": [
       "True"
      ]
     },
     "execution_count": 6,
     "metadata": {},
     "output_type": "execute_result"
    }
   ],
   "source": [
    "img = cv2.imread('lena.jpg',0)\n",
    "cv2.imwrite('lean_grayscale.png',img) #new file is created"
   ]
  },
  {
   "cell_type": "code",
   "execution_count": 7,
   "id": "introductory-silver",
   "metadata": {},
   "outputs": [],
   "source": [
    "cv2.imshow('image',cv2.imread('lean_grayscale.png',-1))\n",
    "cv2.waitKey(0)\n",
    "cv2.destroyAllWindows()"
   ]
  },
  {
   "cell_type": "markdown",
   "id": "greek-memory",
   "metadata": {},
   "source": [
    "**Making things better**"
   ]
  },
  {
   "cell_type": "code",
   "execution_count": 8,
   "id": "existing-money",
   "metadata": {},
   "outputs": [
    {
     "name": "stdout",
     "output_type": "stream",
     "text": [
      "Just destroying all windows\n"
     ]
    }
   ],
   "source": [
    "img = cv2.imread('lean_grayscale.png',-1)\n",
    "cv2.imshow('image',img)\n",
    "key_pressed = cv2.waitKey(0) & 0xFF #for safe side for 64bit machine we are adding mask\n",
    "\n",
    "if key_pressed == ord('s'): #s is pressed create new file\n",
    "    cv2.imwrite('lean_grayscale.png',img)\n",
    "    print(\"New file created\")\n",
    "else:\n",
    "    print(\"Just destroying all windows\")\n",
    "cv2.destroyAllWindows()    "
   ]
  },
  {
   "cell_type": "markdown",
   "id": "driving-arcade",
   "metadata": {},
   "source": [
    "### Drawing shape over Images"
   ]
  },
  {
   "cell_type": "markdown",
   "id": "unable-advance",
   "metadata": {},
   "source": [
    "**Drawing line**"
   ]
  },
  {
   "cell_type": "code",
   "execution_count": 23,
   "id": "cardiac-undergraduate",
   "metadata": {},
   "outputs": [],
   "source": [
    "img = cv2.imread('lena.jpg',1)\n",
    "cv2.imwrite('lena_line.png',img)\n",
    "\n",
    "img = cv2.imread('lena_line.png',1)\n",
    "\n",
    "img = cv2.line(img, (0,0), (255,255), (0,255,0), 5) \n",
    "# arguments (image, x_coor, y_coor, colour in BGR format, thickness)\n",
    "\n",
    "cv2.imshow('image',img)\n",
    "cv2.waitKey(0)\n",
    "\n",
    "cv2.imwrite('lena_line.png',img) #finally saving pic again\n",
    "\n",
    "cv2.destroyAllWindows()"
   ]
  },
  {
   "cell_type": "markdown",
   "id": "proprietary-bonus",
   "metadata": {},
   "source": [
    "**Arrowed Line**"
   ]
  },
  {
   "cell_type": "code",
   "execution_count": 24,
   "id": "canadian-richardson",
   "metadata": {},
   "outputs": [],
   "source": [
    "img = cv2.imread('lena.jpg',1)\n",
    "cv2.imwrite('lena_arrowed_line.png',img)\n",
    "\n",
    "img = cv2.imread('lena_arrowed_line.png',1)\n",
    "\n",
    "img = cv2.arrowedLine(img, (0,255), (255,255), (255,255,0), 5) \n",
    "# arguments (image, x_coor, y_coor, colour in BGR format, thickness)\n",
    "\n",
    "cv2.imshow('image',img)\n",
    "cv2.waitKey(0)\n",
    "\n",
    "cv2.imwrite('lena_arrowed_line.png',img) #finally saving pic again\n",
    "\n",
    "cv2.destroyAllWindows()"
   ]
  },
  {
   "cell_type": "markdown",
   "id": "equipped-scheme",
   "metadata": {},
   "source": [
    "**Rectangle**"
   ]
  },
  {
   "cell_type": "code",
   "execution_count": 25,
   "id": "incident-detection",
   "metadata": {},
   "outputs": [],
   "source": [
    "img = cv2.imread('lena.jpg',1)\n",
    "cv2.imwrite('lena_rectangle.png',img)\n",
    "\n",
    "img = cv2.imread('lena_rectangle.png',1)\n",
    "\n",
    "'''\n",
    "x1,y1---------\n",
    "|            |\n",
    "|            |\n",
    "|            |\n",
    "---------x2,y2\n",
    "\n",
    "'''\n",
    "\n",
    "img = cv2.rectangle(img, (100,100), (255,255), (255,255,0), 5)\n",
    "# arguments (image, top_left_coor, bottom_right_coor, colour in BGR format, thickness)\n",
    "\n",
    "cv2.imshow('image',img)\n",
    "cv2.waitKey(0)\n",
    "\n",
    "img = cv2.rectangle(img, (100,100), (255,255), (255,55,0), -1) #filled rectangle\n",
    "\n",
    "cv2.imshow('image',img)\n",
    "cv2.waitKey(0)\n",
    "\n",
    "cv2.imwrite('lena_rectangle.png',img) #finally saving pic again\n",
    "\n",
    "cv2.destroyAllWindows()"
   ]
  },
  {
   "cell_type": "markdown",
   "id": "sunset-relevance",
   "metadata": {},
   "source": [
    "**Circle**"
   ]
  },
  {
   "cell_type": "code",
   "execution_count": 26,
   "id": "postal-basement",
   "metadata": {},
   "outputs": [],
   "source": [
    "img = cv2.imread('lena.jpg',1)\n",
    "cv2.imwrite('lena_circle.png',img)\n",
    "\n",
    "img = cv2.imread('lena_circle.png',1)\n",
    "\n",
    "img = cv2.circle(img, (255,255), 150, (255,0,255), 5) \n",
    "# arguments (image, center, radius, colour in BGR format, thickness)\n",
    "\n",
    "cv2.imshow('image',img)\n",
    "cv2.waitKey(0)\n",
    "\n",
    "img = cv2.circle(img, (255,255), 150, (255,0,255), -1) #filled circle\n",
    "\n",
    "cv2.imshow('image',img)\n",
    "cv2.waitKey(0)\n",
    "\n",
    "cv2.imwrite('lena_circle.png',img) #finally saving pic again\n",
    "\n",
    "cv2.destroyAllWindows()"
   ]
  },
  {
   "cell_type": "markdown",
   "id": "several-corner",
   "metadata": {},
   "source": [
    "**Putting Text**"
   ]
  },
  {
   "cell_type": "code",
   "execution_count": 30,
   "id": "welsh-armor",
   "metadata": {},
   "outputs": [],
   "source": [
    "img = cv2.imread('lena.jpg',1)\n",
    "cv2.imwrite('lena_text.png',img)\n",
    "\n",
    "img = cv2.imread('lena_text.png',1)\n",
    "\n",
    "font = cv2.FONT_HERSHEY_SIMPLEX\n",
    "\n",
    "img = cv2.putText(img, 'My first Text', (30,100), font, 2, (0,0,0), 5, cv2.LINE_AA) \n",
    "# arguments (image, Text_to_write, starting_coor, font_face, font_size, font_color, thickness, line_type)\n",
    "\n",
    "cv2.imshow('image',img)\n",
    "cv2.waitKey(0)\n",
    "\n",
    "cv2.imwrite('lena_text.png',img) #finally saving pic again\n",
    "\n",
    "cv2.destroyAllWindows()"
   ]
  },
  {
   "cell_type": "markdown",
   "id": "noticed-annotation",
   "metadata": {},
   "source": [
    "**Create your own Image using Numpy zeros method instead of imread()**"
   ]
  },
  {
   "cell_type": "code",
   "execution_count": 2,
   "id": "british-browser",
   "metadata": {},
   "outputs": [],
   "source": [
    "import numpy as np"
   ]
  },
  {
   "cell_type": "code",
   "execution_count": 34,
   "id": "challenging-perception",
   "metadata": {},
   "outputs": [],
   "source": [
    "img = np.zeros([512, 512, 3], np.uint8) #arguments (image size, dtype)\n",
    "#[height, width, 3], 3 for black n white image\n",
    "\n",
    "img = cv2.line(img, (0,0), (255,255), (0,255,0), 5) \n",
    "img = cv2.arrowedLine(img, (0,255), (255,255), (255,255,0), 5) \n",
    "img = cv2.rectangle(img, (100,100), (255,255), (255,255,0), 5)\n",
    "img = cv2.circle(img, (255,255), 150, (255,0,255), 5) \n",
    "\n",
    "font = cv2.FONT_HERSHEY_SIMPLEX\n",
    "img = cv2.putText(img, 'My first Text', (30,100), font, 2, (255,255,255), 5, cv2.LINE_AA) \n",
    "\n",
    "cv2.imshow('image',img)\n",
    "cv2.waitKey(0)\n",
    "\n",
    "cv2.imwrite('own_image.png',img) #finally saving pic again\n",
    "\n",
    "cv2.destroyAllWindows()"
   ]
  },
  {
   "cell_type": "markdown",
   "id": "impressive-president",
   "metadata": {},
   "source": [
    "**Explore**\n",
    "- `cv2.polylines` for drawing polygons\n",
    "- `cv2.ellipse` for drawing ellipse"
   ]
  },
  {
   "cell_type": "markdown",
   "id": "spectacular-command",
   "metadata": {},
   "source": [
    "### Capturing from live camera"
   ]
  },
  {
   "cell_type": "code",
   "execution_count": 13,
   "id": "sporting-white",
   "metadata": {},
   "outputs": [],
   "source": [
    "cap = cv2.VideoCapture(0)\n",
    "# argument (input_video_file_directly OR camera_input)\n",
    "# default camera is 0 or -1\n",
    "\n",
    "# while loop to capture frame continuously\n",
    "while True:\n",
    "    BOOL, frame = cap.read() # returns True or False if frame is available and frame with it\n",
    "    \n",
    "    cv2.imshow('video',frame)\n",
    "    key_pressed = cv2.waitKey(1) & 0xFF\n",
    "    if key_pressed == ord('q'): #close only if q is pressed\n",
    "        break\n",
    "\n",
    "cap.release() # releasing all resources\n",
    "cv2.destroyAllWindows()"
   ]
  },
  {
   "cell_type": "markdown",
   "id": "spare-personal",
   "metadata": {},
   "source": [
    "**In Gray scale**"
   ]
  },
  {
   "cell_type": "code",
   "execution_count": 15,
   "id": "accurate-graduation",
   "metadata": {},
   "outputs": [],
   "source": [
    "cap = cv2.VideoCapture(0)\n",
    "# argument (input_video_file_directly OR camera_input)\n",
    "# default camera is 0 or -1\n",
    "\n",
    "# while loop to capture frame continuously\n",
    "while True:\n",
    "    BOOL, frame = cap.read() # returns True or False if frame is available and frame with it\n",
    "    \n",
    "    gray = cv2.cvtColor(frame, cv2.COLOR_BGR2GRAY) # BGR is converted to Gray\n",
    "    \n",
    "    cv2.imshow('video',gray)\n",
    "    key_pressed = cv2.waitKey(1) & 0xFF\n",
    "    if key_pressed == ord('q'): #close only if q is pressed\n",
    "        break\n",
    "\n",
    "cap.release() # releasing all resources\n",
    "cv2.destroyAllWindows()"
   ]
  },
  {
   "cell_type": "markdown",
   "id": "august-rainbow",
   "metadata": {},
   "source": [
    "- Now instead of writing `while True` cap has one method called `cap.isOpened()` which will return *boolean* value and directly run the code and nothing will happen if file name or camera index number is wrong.\n",
    "- We can also change the above code too."
   ]
  },
  {
   "cell_type": "markdown",
   "id": "mexican-delight",
   "metadata": {},
   "source": [
    "**Reading Video file**"
   ]
  },
  {
   "cell_type": "code",
   "execution_count": 8,
   "id": "reported-operations",
   "metadata": {},
   "outputs": [],
   "source": [
    "cap = cv2.VideoCapture('My_video.mp4')\n",
    "\n",
    "while cap.isOpened():\n",
    "    BOOL, frame = cap.read()\n",
    "    \n",
    "    cv2.imshow('my_video', frame)\n",
    "    key_pressed = cv2.waitKey(10) & 0xFF\n",
    "    \n",
    "    if key_pressed == ord('q'):\n",
    "        break\n",
    "    \n",
    "cap.release()\n",
    "cv2.destroyAllWindows()"
   ]
  },
  {
   "cell_type": "markdown",
   "id": "lonely-array",
   "metadata": {},
   "source": [
    "- cap also have many other properties eg. you can get **height and width** too "
   ]
  },
  {
   "cell_type": "code",
   "execution_count": 13,
   "id": "consistent-savage",
   "metadata": {},
   "outputs": [],
   "source": [
    "# cap = cv2.VideoCapture(0)\n",
    "cap = cv2.VideoCapture(\"My_video.mp4\")\n",
    "\n",
    "while cap.isOpened():\n",
    "    BOOL, frame = cap.read()\n",
    "    \n",
    "    # print(cap.get(cv2.CAP_PROP_FRAME_WIDTH), cap.get(cv2.CAP_PROP_FRAME_HEIGHT)) \n",
    "    # argument prop values\n",
    "    \n",
    "    frame = cv2.rectangle(frame, (100,100), (255,255), (0,0,255), 5)\n",
    "    \n",
    "    cv2.imshow('my_video', frame)\n",
    "    key_pressed = cv2.waitKey(10) & 0xFF\n",
    "    \n",
    "    if key_pressed == ord('q'):\n",
    "        break\n",
    "    \n",
    "cap.release()\n",
    "cv2.destroyAllWindows()"
   ]
  },
  {
   "cell_type": "markdown",
   "id": "missing-distribution",
   "metadata": {},
   "source": [
    "**Saving Video**"
   ]
  },
  {
   "cell_type": "code",
   "execution_count": null,
   "id": "hourly-wednesday",
   "metadata": {},
   "outputs": [],
   "source": []
  }
 ],
 "metadata": {
  "kernelspec": {
   "display_name": "Python 3",
   "language": "python",
   "name": "python3"
  },
  "language_info": {
   "codemirror_mode": {
    "name": "ipython",
    "version": 3
   },
   "file_extension": ".py",
   "mimetype": "text/x-python",
   "name": "python",
   "nbconvert_exporter": "python",
   "pygments_lexer": "ipython3",
   "version": "3.8.8"
  }
 },
 "nbformat": 4,
 "nbformat_minor": 5
}
