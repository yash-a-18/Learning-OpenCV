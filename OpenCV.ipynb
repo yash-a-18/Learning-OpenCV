{
 "cells": [
  {
   "cell_type": "code",
   "execution_count": 1,
   "id": "spread-slope",
   "metadata": {},
   "outputs": [],
   "source": [
    "import cv2"
   ]
  },
  {
   "cell_type": "code",
   "execution_count": 2,
   "id": "incorporated-height",
   "metadata": {},
   "outputs": [
    {
     "data": {
      "text/plain": [
       "'4.0.1'"
      ]
     },
     "execution_count": 2,
     "metadata": {},
     "output_type": "execute_result"
    }
   ],
   "source": [
    "cv2.__version__"
   ]
  },
  {
   "cell_type": "markdown",
   "id": "fresh-property",
   "metadata": {},
   "source": [
    "### Read and Write Image"
   ]
  },
  {
   "cell_type": "markdown",
   "id": "middle-forestry",
   "metadata": {},
   "source": [
    "- *`cv2.imread() does not give error even if we give wrong image name as input.`*\n",
    "- For wrong file name *img* variable will have **None** value"
   ]
  },
  {
   "cell_type": "code",
   "execution_count": 3,
   "id": "english-bobby",
   "metadata": {},
   "outputs": [
    {
     "name": "stdout",
     "output_type": "stream",
     "text": [
      "cv2.IMREAD_UNCHANGED -1\n"
     ]
    }
   ],
   "source": [
    "#Second argument is flag\n",
    "img = cv2.imread('lena.jpg',-1) #As it is\n",
    "print('cv2.IMREAD_UNCHANGED',cv2.IMREAD_UNCHANGED)\n",
    "\n",
    "cv2.imshow('image',img) #for showing image and 'image' is window name\n",
    "cv2.waitKey(10000) # waiting for image to show i.e. image will be shown for 10 seconds further i.e. 10,000 ms\n",
    "cv2.destroyAllWindows() #destorying all windows"
   ]
  },
  {
   "cell_type": "code",
   "execution_count": 4,
   "id": "whole-surface",
   "metadata": {},
   "outputs": [
    {
     "name": "stdout",
     "output_type": "stream",
     "text": [
      "cv2.IMREAD_GRAYSCALE 0\n"
     ]
    }
   ],
   "source": [
    "img = cv2.imread('lena.jpg',0) #Grayscale\n",
    "print('cv2.IMREAD_GRAYSCALE',cv2.IMREAD_GRAYSCALE)\n",
    "\n",
    "cv2.imshow('image',img) #for showing image and 'image' is window name\n",
    "cv2.waitKey(10000) # waiting for image to show i.e. image will be shown for 10 seconds further i.e. 10,000 ms\n",
    "cv2.destroyAllWindows() #destorying all windows"
   ]
  },
  {
   "cell_type": "code",
   "execution_count": 5,
   "id": "straight-grenada",
   "metadata": {},
   "outputs": [
    {
     "name": "stdout",
     "output_type": "stream",
     "text": [
      "cv2.IMREAD_COLOR 1\n"
     ]
    }
   ],
   "source": [
    "img = cv2.imread('lena.jpg',1) #Color\n",
    "print('cv2.IMREAD_COLOR',cv2.IMREAD_COLOR)\n",
    "\n",
    "cv2.imshow('image',img) #for showing image and 'image' is window name\n",
    "cv2.waitKey(10000) # waiting for image to show i.e. image will be shown for 10 seconds further i.e. 10,000 ms\n",
    "cv2.destroyAllWindows() #destorying all windows"
   ]
  },
  {
   "cell_type": "markdown",
   "id": "historic-lightning",
   "metadata": {},
   "source": [
    "**Fun Fact**\n",
    "- If we give \"zero\" as an argument to waitKey(), than it will show image for infinite time *until we click close button*"
   ]
  },
  {
   "cell_type": "markdown",
   "id": "suffering-equipment",
   "metadata": {},
   "source": [
    "**Question**\n",
    "- What is the difference between already coloured image and cv2.IMREAD_COLOR?"
   ]
  },
  {
   "cell_type": "code",
   "execution_count": 6,
   "id": "suburban-establishment",
   "metadata": {},
   "outputs": [
    {
     "data": {
      "text/plain": [
       "True"
      ]
     },
     "execution_count": 6,
     "metadata": {},
     "output_type": "execute_result"
    }
   ],
   "source": [
    "img = cv2.imread('lena.jpg',0)\n",
    "cv2.imwrite('lean_grayscale.png',img) #new file is created"
   ]
  },
  {
   "cell_type": "code",
   "execution_count": 7,
   "id": "introductory-silver",
   "metadata": {},
   "outputs": [],
   "source": [
    "cv2.imshow('image',cv2.imread('lean_grayscale.png',-1))\n",
    "cv2.waitKey(0)\n",
    "cv2.destroyAllWindows()"
   ]
  },
  {
   "cell_type": "markdown",
   "id": "greek-memory",
   "metadata": {},
   "source": [
    "**Making things better**"
   ]
  },
  {
   "cell_type": "code",
   "execution_count": 8,
   "id": "existing-money",
   "metadata": {},
   "outputs": [
    {
     "name": "stdout",
     "output_type": "stream",
     "text": [
      "Just destroying all windows\n"
     ]
    }
   ],
   "source": [
    "img = cv2.imread('lean_grayscale.png',-1)\n",
    "cv2.imshow('image',img)\n",
    "key_pressed = cv2.waitKey(0) & 0xFF #for safe side for 64bit machine we are adding mask\n",
    "\n",
    "if key_pressed == ord('s'): #s is pressed create new file\n",
    "    cv2.imwrite('lean_grayscale.png',img)\n",
    "    print(\"New file created\")\n",
    "else:\n",
    "    print(\"Just destroying all windows\")\n",
    "cv2.destroyAllWindows()    "
   ]
  },
  {
   "cell_type": "markdown",
   "id": "driving-arcade",
   "metadata": {},
   "source": [
    "### Drawing shape over Images"
   ]
  },
  {
   "cell_type": "markdown",
   "id": "unable-advance",
   "metadata": {},
   "source": [
    "**Drawing line**"
   ]
  },
  {
   "cell_type": "code",
   "execution_count": 9,
   "id": "cardiac-undergraduate",
   "metadata": {},
   "outputs": [],
   "source": [
    "img = cv2.imread('lena.jpg',1)\n",
    "cv2.imwrite('lena_line.png',img)\n",
    "\n",
    "img = cv2.imread('lena_line.png',1)\n",
    "\n",
    "img = cv2.line(img, (0,0), (255,255), (0,255,0), 5) \n",
    "# arguments (image, x_coor, y_coor, colour in BGR format, thickness)\n",
    "\n",
    "cv2.imshow('image',img)\n",
    "cv2.waitKey(0)\n",
    "\n",
    "cv2.imwrite('lena_line.png',img) #finally saving pic again\n",
    "\n",
    "cv2.destroyAllWindows()"
   ]
  },
  {
   "cell_type": "markdown",
   "id": "proprietary-bonus",
   "metadata": {},
   "source": [
    "**Arrowed Line**"
   ]
  },
  {
   "cell_type": "code",
   "execution_count": 10,
   "id": "canadian-richardson",
   "metadata": {},
   "outputs": [],
   "source": [
    "img = cv2.imread('lena.jpg',1)\n",
    "cv2.imwrite('lena_arrowed_line.png',img)\n",
    "\n",
    "img = cv2.imread('lena_arrowed_line.png',1)\n",
    "\n",
    "img = cv2.arrowedLine(img, (0,255), (255,255), (255,255,0), 5) \n",
    "# arguments (image, x_coor, y_coor, colour in BGR format, thickness)\n",
    "\n",
    "cv2.imshow('image',img)\n",
    "cv2.waitKey(0)\n",
    "\n",
    "cv2.imwrite('lena_arrowed_line.png',img) #finally saving pic again\n",
    "\n",
    "cv2.destroyAllWindows()"
   ]
  },
  {
   "cell_type": "markdown",
   "id": "equipped-scheme",
   "metadata": {},
   "source": [
    "**Rectangle**"
   ]
  },
  {
   "cell_type": "code",
   "execution_count": 11,
   "id": "incident-detection",
   "metadata": {},
   "outputs": [],
   "source": [
    "img = cv2.imread('lena.jpg',1)\n",
    "cv2.imwrite('lena_rectangle.png',img)\n",
    "\n",
    "img = cv2.imread('lena_rectangle.png',1)\n",
    "\n",
    "'''\n",
    "x1,y1---------\n",
    "|            |\n",
    "|            |\n",
    "|            |\n",
    "---------x2,y2\n",
    "\n",
    "'''\n",
    "\n",
    "img = cv2.rectangle(img, (100,100), (255,255), (255,255,0), 5)\n",
    "# arguments (image, top_left_coor, bottom_right_coor, colour in BGR format, thickness)\n",
    "\n",
    "cv2.imshow('image',img)\n",
    "cv2.waitKey(0)\n",
    "\n",
    "img = cv2.rectangle(img, (100,100), (255,255), (255,55,0), -1) #filled rectangle\n",
    "\n",
    "cv2.imshow('image',img)\n",
    "cv2.waitKey(0)\n",
    "\n",
    "cv2.imwrite('lena_rectangle.png',img) #finally saving pic again\n",
    "\n",
    "cv2.destroyAllWindows()"
   ]
  },
  {
   "cell_type": "markdown",
   "id": "sunset-relevance",
   "metadata": {},
   "source": [
    "**Circle**"
   ]
  },
  {
   "cell_type": "code",
   "execution_count": 12,
   "id": "postal-basement",
   "metadata": {},
   "outputs": [],
   "source": [
    "img = cv2.imread('lena.jpg',1)\n",
    "cv2.imwrite('lena_circle.png',img)\n",
    "\n",
    "img = cv2.imread('lena_circle.png',1)\n",
    "\n",
    "img = cv2.circle(img, (255,255), 150, (255,0,255), 5) \n",
    "# arguments (image, center, radius, colour in BGR format, thickness)\n",
    "\n",
    "cv2.imshow('image',img)\n",
    "cv2.waitKey(0)\n",
    "\n",
    "img = cv2.circle(img, (255,255), 150, (255,0,255), -1) #filled circle\n",
    "\n",
    "cv2.imshow('image',img)\n",
    "cv2.waitKey(0)\n",
    "\n",
    "cv2.imwrite('lena_circle.png',img) #finally saving pic again\n",
    "\n",
    "cv2.destroyAllWindows()"
   ]
  },
  {
   "cell_type": "markdown",
   "id": "several-corner",
   "metadata": {},
   "source": [
    "**Putting Text**"
   ]
  },
  {
   "cell_type": "code",
   "execution_count": 13,
   "id": "welsh-armor",
   "metadata": {},
   "outputs": [],
   "source": [
    "img = cv2.imread('lena.jpg',1)\n",
    "cv2.imwrite('lena_text.png',img)\n",
    "\n",
    "img = cv2.imread('lena_text.png',1)\n",
    "\n",
    "font = cv2.FONT_HERSHEY_SIMPLEX\n",
    "\n",
    "img = cv2.putText(img, 'My first Text', (30,100), font, 2, (0,0,0), 5, cv2.LINE_AA) \n",
    "# arguments (image, Text_to_write, starting_coor, font_face, font_size, font_color, thickness, line_type)\n",
    "\n",
    "cv2.imshow('image',img)\n",
    "cv2.waitKey(0)\n",
    "\n",
    "cv2.imwrite('lena_text.png',img) #finally saving pic again\n",
    "\n",
    "cv2.destroyAllWindows()"
   ]
  },
  {
   "cell_type": "markdown",
   "id": "noticed-annotation",
   "metadata": {},
   "source": [
    "**Create your own Image using Numpy zeros method instead of imread()**"
   ]
  },
  {
   "cell_type": "code",
   "execution_count": 2,
   "id": "british-browser",
   "metadata": {},
   "outputs": [],
   "source": [
    "import numpy as np"
   ]
  },
  {
   "cell_type": "code",
   "execution_count": 15,
   "id": "challenging-perception",
   "metadata": {},
   "outputs": [],
   "source": [
    "img = np.zeros([512, 512, 3], np.uint8) #arguments (image size, dtype)\n",
    "#[height, width, 3], 3 for black n white image\n",
    "\n",
    "img = cv2.line(img, (0,0), (255,255), (0,255,0), 5) \n",
    "img = cv2.arrowedLine(img, (0,255), (255,255), (255,255,0), 5) \n",
    "img = cv2.rectangle(img, (100,100), (255,255), (255,255,0), 5)\n",
    "img = cv2.circle(img, (255,255), 150, (255,0,255), 5) \n",
    "\n",
    "font = cv2.FONT_HERSHEY_SIMPLEX\n",
    "img = cv2.putText(img, 'My first Text', (30,100), font, 2, (255,255,255), 5, cv2.LINE_AA) \n",
    "\n",
    "cv2.imshow('image',img)\n",
    "cv2.waitKey(0)\n",
    "\n",
    "cv2.imwrite('own_image.png',img) #finally saving pic again\n",
    "\n",
    "cv2.destroyAllWindows()"
   ]
  },
  {
   "cell_type": "markdown",
   "id": "impressive-president",
   "metadata": {},
   "source": [
    "**Explore**\n",
    "- `cv2.polylines` for drawing polygons\n",
    "- `cv2.ellipse` for drawing ellipse"
   ]
  },
  {
   "cell_type": "markdown",
   "id": "spectacular-command",
   "metadata": {},
   "source": [
    "### Capturing from live camera"
   ]
  },
  {
   "cell_type": "code",
   "execution_count": 16,
   "id": "sporting-white",
   "metadata": {},
   "outputs": [],
   "source": [
    "cap = cv2.VideoCapture(0)\n",
    "# argument (input_video_file_directly OR camera_input)\n",
    "# default camera is 0 or -1\n",
    "\n",
    "# while loop to capture frame continuously\n",
    "while True:\n",
    "    BOOL, frame = cap.read() # returns True or False if frame is available and frame with it\n",
    "    \n",
    "    cv2.imshow('video',frame)\n",
    "    key_pressed = cv2.waitKey(1) & 0xFF\n",
    "    if key_pressed == ord('q'): #close only if q is pressed\n",
    "        break\n",
    "\n",
    "cap.release() # releasing all resources\n",
    "cv2.destroyAllWindows()"
   ]
  },
  {
   "cell_type": "markdown",
   "id": "spare-personal",
   "metadata": {},
   "source": [
    "**In Gray scale**"
   ]
  },
  {
   "cell_type": "code",
   "execution_count": 15,
   "id": "accurate-graduation",
   "metadata": {},
   "outputs": [],
   "source": [
    "cap = cv2.VideoCapture(0)\n",
    "# argument (input_video_file_directly OR camera_input)\n",
    "# default camera is 0 or -1\n",
    "\n",
    "# while loop to capture frame continuously\n",
    "while True:\n",
    "    BOOL, frame = cap.read() # returns True or False if frame is available and frame with it\n",
    "    \n",
    "    gray = cv2.cvtColor(frame, cv2.COLOR_BGR2GRAY) # BGR is converted to Gray\n",
    "    \n",
    "    cv2.imshow('video',gray)\n",
    "    key_pressed = cv2.waitKey(1) & 0xFF\n",
    "    if key_pressed == ord('q'): #close only if q is pressed\n",
    "        break\n",
    "\n",
    "cap.release() # releasing all resources\n",
    "cv2.destroyAllWindows()"
   ]
  },
  {
   "cell_type": "markdown",
   "id": "august-rainbow",
   "metadata": {},
   "source": [
    "- Now instead of writing `while True` cap has one method called `cap.isOpened()` which will return *boolean* value and directly run the code and nothing will happen if file name or camera index number is wrong.\n",
    "- We can also change the above code too."
   ]
  },
  {
   "cell_type": "markdown",
   "id": "mexican-delight",
   "metadata": {},
   "source": [
    "**Reading Video file**"
   ]
  },
  {
   "cell_type": "code",
   "execution_count": 8,
   "id": "reported-operations",
   "metadata": {},
   "outputs": [],
   "source": [
    "cap = cv2.VideoCapture('My_video.mp4')\n",
    "\n",
    "while cap.isOpened():\n",
    "    BOOL, frame = cap.read()\n",
    "    \n",
    "    cv2.imshow('my_video', frame)\n",
    "    key_pressed = cv2.waitKey(10) & 0xFF\n",
    "    \n",
    "    if key_pressed == ord('q'):\n",
    "        break\n",
    "    \n",
    "cap.release()\n",
    "cv2.destroyAllWindows()"
   ]
  },
  {
   "cell_type": "markdown",
   "id": "lonely-array",
   "metadata": {},
   "source": [
    "- cap also have many other properties eg. you can get **height and width** too "
   ]
  },
  {
   "cell_type": "code",
   "execution_count": 13,
   "id": "consistent-savage",
   "metadata": {},
   "outputs": [],
   "source": [
    "# cap = cv2.VideoCapture(0)\n",
    "cap = cv2.VideoCapture(\"My_video.mp4\")\n",
    "\n",
    "while cap.isOpened():\n",
    "    BOOL, frame = cap.read()\n",
    "    \n",
    "    # print(cap.get(cv2.CAP_PROP_FRAME_WIDTH), cap.get(cv2.CAP_PROP_FRAME_HEIGHT)) \n",
    "    # argument prop values\n",
    "    \n",
    "    frame = cv2.rectangle(frame, (100,100), (255,255), (0,0,255), 5)\n",
    "    \n",
    "    cv2.imshow('my_video', frame)\n",
    "    key_pressed = cv2.waitKey(10) & 0xFF\n",
    "    \n",
    "    if key_pressed == ord('q'):\n",
    "        break\n",
    "    \n",
    "cap.release()\n",
    "cv2.destroyAllWindows()"
   ]
  },
  {
   "cell_type": "markdown",
   "id": "missing-distribution",
   "metadata": {},
   "source": [
    "**Saving Video**"
   ]
  },
  {
   "cell_type": "code",
   "execution_count": 6,
   "id": "hourly-wednesday",
   "metadata": {},
   "outputs": [],
   "source": [
    "cap = cv2.VideoCapture(0)\n",
    "fourcc = cv2.VideoWriter_fourcc(*'XVID')\n",
    "output = cv2.VideoWriter(\"output_video.avi\", fourcc, 20.0, (640,480))\n",
    "# arguments (output_filename, fourcc, frames per second, width and height)\n",
    "\n",
    "while cap.isOpened():\n",
    "    BOOL, frame = cap.read()\n",
    "    \n",
    "    if BOOL:\n",
    "\n",
    "        output.write(frame) # saving video\n",
    "\n",
    "        cv2.imshow(\"new_video\",frame)\n",
    "        key_pressed = cv2.waitKey(1) & 0xFF\n",
    "\n",
    "        if key_pressed == ord('q'):\n",
    "            break\n",
    "    else:\n",
    "        break\n",
    "        \n",
    "cap.release()\n",
    "output.release()\n",
    "cv2.destroyAllWindows()"
   ]
  },
  {
   "cell_type": "markdown",
   "id": "controlled-january",
   "metadata": {},
   "source": [
    "`https://www.fourcc.org/codecs.php`"
   ]
  },
  {
   "cell_type": "markdown",
   "id": "mounted-plumbing",
   "metadata": {},
   "source": [
    "**Setting Camera Parameters**"
   ]
  },
  {
   "cell_type": "code",
   "execution_count": 6,
   "id": "suburban-specific",
   "metadata": {},
   "outputs": [
    {
     "ename": "error",
     "evalue": "OpenCV(4.0.1) C:\\ci\\opencv-suite_1573470242804\\work\\modules\\highgui\\src\\window.cpp:352: error: (-215:Assertion failed) size.width>0 && size.height>0 in function 'cv::imshow'\n",
     "output_type": "error",
     "traceback": [
      "\u001b[1;31m---------------------------------------------------------------------------\u001b[0m",
      "\u001b[1;31merror\u001b[0m                                     Traceback (most recent call last)",
      "\u001b[1;32m<ipython-input-6-24c37b882f69>\u001b[0m in \u001b[0;36m<module>\u001b[1;34m\u001b[0m\n\u001b[0;32m     11\u001b[0m     \u001b[0mframe\u001b[0m \u001b[1;33m=\u001b[0m \u001b[0mcv2\u001b[0m\u001b[1;33m.\u001b[0m\u001b[0mrectangle\u001b[0m\u001b[1;33m(\u001b[0m\u001b[0mframe\u001b[0m\u001b[1;33m,\u001b[0m \u001b[1;33m(\u001b[0m\u001b[1;36m100\u001b[0m\u001b[1;33m,\u001b[0m\u001b[1;36m100\u001b[0m\u001b[1;33m)\u001b[0m\u001b[1;33m,\u001b[0m \u001b[1;33m(\u001b[0m\u001b[1;36m255\u001b[0m\u001b[1;33m,\u001b[0m\u001b[1;36m255\u001b[0m\u001b[1;33m)\u001b[0m\u001b[1;33m,\u001b[0m \u001b[1;33m(\u001b[0m\u001b[1;36m0\u001b[0m\u001b[1;33m,\u001b[0m\u001b[1;36m0\u001b[0m\u001b[1;33m,\u001b[0m\u001b[1;36m255\u001b[0m\u001b[1;33m)\u001b[0m\u001b[1;33m,\u001b[0m \u001b[1;36m5\u001b[0m\u001b[1;33m)\u001b[0m\u001b[1;33m\u001b[0m\u001b[1;33m\u001b[0m\u001b[0m\n\u001b[0;32m     12\u001b[0m \u001b[1;33m\u001b[0m\u001b[0m\n\u001b[1;32m---> 13\u001b[1;33m     \u001b[0mcv2\u001b[0m\u001b[1;33m.\u001b[0m\u001b[0mimshow\u001b[0m\u001b[1;33m(\u001b[0m\u001b[1;34m'my_video'\u001b[0m\u001b[1;33m,\u001b[0m \u001b[0mframe\u001b[0m\u001b[1;33m)\u001b[0m\u001b[1;33m\u001b[0m\u001b[1;33m\u001b[0m\u001b[0m\n\u001b[0m\u001b[0;32m     14\u001b[0m     \u001b[0mkey_pressed\u001b[0m \u001b[1;33m=\u001b[0m \u001b[0mcv2\u001b[0m\u001b[1;33m.\u001b[0m\u001b[0mwaitKey\u001b[0m\u001b[1;33m(\u001b[0m\u001b[1;36m1\u001b[0m\u001b[1;33m)\u001b[0m \u001b[1;33m&\u001b[0m \u001b[1;36m0xFF\u001b[0m\u001b[1;33m\u001b[0m\u001b[1;33m\u001b[0m\u001b[0m\n\u001b[0;32m     15\u001b[0m \u001b[1;33m\u001b[0m\u001b[0m\n",
      "\u001b[1;31merror\u001b[0m: OpenCV(4.0.1) C:\\ci\\opencv-suite_1573470242804\\work\\modules\\highgui\\src\\window.cpp:352: error: (-215:Assertion failed) size.width>0 && size.height>0 in function 'cv::imshow'\n"
     ]
    }
   ],
   "source": [
    "cap = cv2.VideoCapture(0)\n",
    "# cap = cv2.VideoCapture(\"My_video.mp4\")\n",
    "\n",
    "while True:\n",
    "    BOOL, frame = cap.read()\n",
    "    \n",
    "    # set any property which you can get\n",
    "#     cap.set(cv2.CAP_PROP_FRAME_WIDTH, 620)\n",
    "#     cap.set(cv2.CAP_PROP_FRAME_HEIGHT, 480)\n",
    "    '''not working in mine\n",
    "    Do not know why?'''\n",
    "    frame = cv2.rectangle(frame, (100,100), (255,255), (0,0,255), 5)\n",
    "    \n",
    "    cv2.imshow('my_video', frame)\n",
    "    key_pressed = cv2.waitKey(1) & 0xFF\n",
    "    \n",
    "    if key_pressed == ord('q'):\n",
    "        print(cap.get(cv2.CAP_PROP_FRAME_WIDTH), cap.get(cv2.CAP_PROP_FRAME_HEIGHT)) \n",
    "        # argument prop values\n",
    "        break\n",
    "    \n",
    "cap.release()\n",
    "cv2.destroyAllWindows()"
   ]
  },
  {
   "cell_type": "markdown",
   "id": "brazilian-arrival",
   "metadata": {},
   "source": [
    "**Showing height, width and current time in video**"
   ]
  },
  {
   "cell_type": "code",
   "execution_count": 1,
   "id": "continuous-raise",
   "metadata": {},
   "outputs": [],
   "source": [
    "import datetime"
   ]
  },
  {
   "cell_type": "code",
   "execution_count": 7,
   "id": "atomic-shopper",
   "metadata": {},
   "outputs": [],
   "source": [
    "cap = cv2.VideoCapture(0)\n",
    "\n",
    "while cap.isOpened():\n",
    "    BOOL, frame = cap.read()\n",
    "    \n",
    "    font = cv2.FONT_HERSHEY_SIMPLEX\n",
    "    \n",
    "    text = \"Width: \" + str(cap.get(cv2.CAP_PROP_FRAME_WIDTH)) + \" Height: \" + str(cap.get(cv2.CAP_PROP_FRAME_HEIGHT))\n",
    "    date_n_time = str(datetime.datetime.now())\n",
    "    \n",
    "    # arguments (image, Text_to_write, starting_coor, font_face, font_size, font_color, thickness, line_type)\n",
    "    frame = cv2.putText(frame, text, (10,50), font, 1, (0,255,255), 2, cv2.LINE_AA)\n",
    "    frame = cv2.putText(frame, date_n_time, (10,100), font, 1, (255,0,255), 2, cv2.LINE_AA)\n",
    "    \n",
    "        \n",
    "    cv2.imshow('my_video', frame)\n",
    "    key_pressed = cv2.waitKey(1) & 0xFF\n",
    "    \n",
    "    if key_pressed == ord('q'):\n",
    "        break\n",
    "    \n",
    "cap.release()\n",
    "cv2.destroyAllWindows()"
   ]
  },
  {
   "cell_type": "markdown",
   "id": "excessive-florist",
   "metadata": {},
   "source": [
    "**More Image properties**"
   ]
  },
  {
   "cell_type": "code",
   "execution_count": 5,
   "id": "trying-bruce",
   "metadata": {},
   "outputs": [
    {
     "name": "stdout",
     "output_type": "stream",
     "text": [
      "no. of row, column, channels =>  (342, 548, 3)\n",
      "total no. of pixel =>  562248\n",
      "image datatype =>  uint8\n"
     ]
    }
   ],
   "source": [
    "img = cv2.imread('messi5.jpg',-1)\n",
    "\n",
    "print(\"no. of row, column, channels => \",img.shape) # returns tuple\n",
    "print(\"total no. of pixel => \",img.size)\n",
    "print(\"image datatype => \",img.dtype)"
   ]
  },
  {
   "cell_type": "markdown",
   "id": "wireless-swift",
   "metadata": {},
   "source": [
    "**Splitting the image into 3 channels**"
   ]
  },
  {
   "cell_type": "code",
   "execution_count": 11,
   "id": "explicit-wheat",
   "metadata": {},
   "outputs": [
    {
     "name": "stdout",
     "output_type": "stream",
     "text": [
      "b:  [[39 42 44 ... 59 57 54]\n",
      " [37 42 46 ... 62 60 57]\n",
      " [42 47 51 ... 64 63 60]\n",
      " ...\n",
      " [56 48 49 ... 60 63 74]\n",
      " [52 59 50 ... 56 69 66]\n",
      " [43 58 72 ... 49 50 51]] \n",
      "\n",
      " g:  [[ 43  46  47 ...  54  52  49]\n",
      " [ 41  45  49 ...  60  58  55]\n",
      " [ 45  50  54 ...  63  62  60]\n",
      " ...\n",
      " [143 133 129 ... 133 134 144]\n",
      " [139 141 130 ... 132 142 137]\n",
      " [129 140 150 ... 124 125 124]] \n",
      "\n",
      " r:  [[ 44  47  51 ...  55  53  50]\n",
      " [ 42  49  54 ...  60  58  55]\n",
      " [ 49  55  62 ...  65  64  60]\n",
      " ...\n",
      " [ 99  89  86 ...  93  94 104]\n",
      " [ 95  98  87 ...  91 102  97]\n",
      " [ 87  98 109 ...  86  87  86]]\n"
     ]
    }
   ],
   "source": [
    "b, g, r = cv2.split(img)\n",
    "print(\"b: \", b, \"\\n\\n\", \"g: \", g, \"\\n\\n\", \"r: \", r)"
   ]
  },
  {
   "cell_type": "markdown",
   "id": "deadly-garage",
   "metadata": {},
   "source": [
    "**You can merge b,g,r to make an image**"
   ]
  },
  {
   "cell_type": "code",
   "execution_count": 16,
   "id": "artistic-muslim",
   "metadata": {},
   "outputs": [],
   "source": [
    "img = cv2.merge((b,g,r)) # given argument as tuple\n",
    "cv2.imshow('messi',img)\n",
    "cv2.waitKey(0)\n",
    "cv2.destroyAllWindows()"
   ]
  },
  {
   "cell_type": "markdown",
   "id": "latest-argentina",
   "metadata": {},
   "source": [
    "### Trackbars"
   ]
  },
  {
   "cell_type": "markdown",
   "id": "aquatic-electron",
   "metadata": {},
   "source": [
    "Trackbars are useful when we want to change anything into our image **Dynamically** at runtime."
   ]
  },
  {
   "cell_type": "code",
   "execution_count": 3,
   "id": "medieval-alcohol",
   "metadata": {},
   "outputs": [],
   "source": [
    "def blue(x):\n",
    "    print(\"Blue\",x) # x is current position\n",
    "\n",
    "def green(x):\n",
    "    print(\"Green\",x) # x is current position\n",
    "    \n",
    "def red(x):\n",
    "    print(\"Red\",x) # x is current position"
   ]
  },
  {
   "cell_type": "code",
   "execution_count": 10,
   "id": "flying-reduction",
   "metadata": {},
   "outputs": [
    {
     "name": "stdout",
     "output_type": "stream",
     "text": [
      "Blue 51\n",
      "Green 51\n",
      "Red 51\n",
      "Blue 102\n",
      "Green 102\n",
      "Red 102\n",
      "Blue 153\n",
      "Green 153\n",
      "Red 153\n",
      "Blue 204\n",
      "Green 204\n",
      "Red 204\n",
      "Blue 255\n",
      "Green 255\n",
      "Red 255\n"
     ]
    }
   ],
   "source": [
    "img = np.zeros((300,512,3), np.uint8)\n",
    "cv2.namedWindow('window_image') # creates window with a name\n",
    "\n",
    "cv2.createTrackbar('Blue', 'window_image', 0, 255, blue)\n",
    "# arguments (Trackbar_name, name_of_window, initial_value_where_trackbar_will_be_set, count_final_value, callback_function)\n",
    "# trackbar name because we can have multiple trackbars in a window\n",
    "\n",
    "cv2.createTrackbar('Green', 'window_image', 0, 255, green)\n",
    "cv2.createTrackbar('Red', 'window_image', 0, 255, red)\n",
    "\n",
    "while(1):\n",
    "    cv2.imshow('window_image',img)\n",
    "    key_pressed = cv2.waitKey(1) & 0xFF\n",
    "    if key_pressed == ord('q'):\n",
    "        break\n",
    "    b = cv2.getTrackbarPos('Blue','window_image') # arguments (trackbar_name, window_name)\n",
    "    g = cv2.getTrackbarPos('Green','window_image')\n",
    "    r = cv2.getTrackbarPos('Red','window_image')\n",
    "    \n",
    "    img[:] = [b, g, r]\n",
    "\n",
    "cv2.destroyAllWindows()"
   ]
  },
  {
   "cell_type": "markdown",
   "id": "immediate-arkansas",
   "metadata": {},
   "source": [
    "**Adding a switch**"
   ]
  },
  {
   "cell_type": "code",
   "execution_count": 2,
   "id": "military-oriental",
   "metadata": {},
   "outputs": [],
   "source": [
    "def switch_func(x):\n",
    "    print(\"switch\",x)"
   ]
  },
  {
   "cell_type": "code",
   "execution_count": 11,
   "id": "mineral-discharge",
   "metadata": {},
   "outputs": [
    {
     "name": "stdout",
     "output_type": "stream",
     "text": [
      "Red 51\n",
      "Red 102\n",
      "Green 51\n",
      "Green 102\n",
      "Blue 51\n",
      "Blue 102\n",
      "switch 1\n",
      "switch 0\n"
     ]
    }
   ],
   "source": [
    "img = np.zeros((300,512,3), np.uint8)\n",
    "cv2.namedWindow('window_image')\n",
    "\n",
    "cv2.createTrackbar('Blue', 'window_image', 0, 255, blue)\n",
    "cv2.createTrackbar('Green', 'window_image', 0, 255, green)\n",
    "cv2.createTrackbar('Red', 'window_image', 0, 255, red)\n",
    "\n",
    "switch = '0:OFF 1:ON'\n",
    "cv2.createTrackbar(switch, 'window_image', 0, 1, switch_func)\n",
    "\n",
    "while(1):\n",
    "    cv2.imshow('window_image',img)\n",
    "    key_pressed = cv2.waitKey(1) & 0xFF\n",
    "    if key_pressed == ord('q'):\n",
    "        break\n",
    "    b = cv2.getTrackbarPos('Blue','window_image')\n",
    "    g = cv2.getTrackbarPos('Green','window_image')\n",
    "    r = cv2.getTrackbarPos('Red','window_image')\n",
    "    s = cv2.getTrackbarPos(switch, 'window_image')\n",
    "    \n",
    "    if s == 0:\n",
    "        img[:] = 0 # do nothing\n",
    "    else:\n",
    "        img[:] = [b, g, r]\n",
    "    \n",
    "cv2.destroyAllWindows()"
   ]
  },
  {
   "cell_type": "markdown",
   "id": "japanese-active",
   "metadata": {},
   "source": [
    "**Text and Grayscale at runtime**"
   ]
  },
  {
   "cell_type": "code",
   "execution_count": 5,
   "id": "billion-spokesman",
   "metadata": {},
   "outputs": [],
   "source": [
    "def number(x):\n",
    "    print(\"Number\",x)"
   ]
  },
  {
   "cell_type": "code",
   "execution_count": 7,
   "id": "reflected-royal",
   "metadata": {},
   "outputs": [
    {
     "name": "stdout",
     "output_type": "stream",
     "text": [
      "switch 1\n",
      "switch 0\n",
      "Number 110\n",
      "switch 1\n",
      "switch 0\n",
      "Number 210\n",
      "switch 1\n",
      "switch 0\n",
      "switch 1\n"
     ]
    }
   ],
   "source": [
    "cv2.namedWindow('window_image')\n",
    "\n",
    "cv2.createTrackbar('number', 'window_image', 10, 500, number)\n",
    "\n",
    "switch = '0:OFF 1:ON'\n",
    "cv2.createTrackbar(switch, 'window_image', 0, 1, switch_func)\n",
    "\n",
    "while(1):\n",
    "    img = cv2.imread('lena.jpg',1)\n",
    "    \n",
    "    num = cv2.getTrackbarPos('number','window_image')\n",
    "    \n",
    "    font = cv2.FONT_HERSHEY_SIMPLEX\n",
    "\n",
    "    cv2.putText(img, str(num), (30,100), font, 2, (0,0,0), 5, cv2.LINE_AA) \n",
    "    # arguments (image, Text_to_write, starting_coor, font_face, font_size, font_color, thickness, line_type)\n",
    "\n",
    "    \n",
    "    key_pressed = cv2.waitKey(1) & 0xFF\n",
    "    if key_pressed == ord('q'):\n",
    "        break\n",
    "    \n",
    "    s = cv2.getTrackbarPos(switch, 'window_image')\n",
    "    \n",
    "    if s==0:\n",
    "        pass\n",
    "    else:\n",
    "        img = cv2.cvtColor(img, cv2.COLOR_BGR2GRAY)\n",
    "    cv2.imshow('window_image',img)\n",
    "        \n",
    "cv2.destroyAllWindows()"
   ]
  },
  {
   "cell_type": "markdown",
   "id": "returning-services",
   "metadata": {},
   "source": [
    "### Object detection"
   ]
  },
  {
   "cell_type": "markdown",
   "id": "revised-concept",
   "metadata": {},
   "source": [
    "**Object detection and object tracking using HSV color space**\n",
    "\n",
    "    H - Hue (select any color from value ranging from 0-360)\n",
    "    S - Saturation (amount of color, value 0-1 or 0-100%)\n",
    "    V - Value (brightness of color, value 0-1 or 0-100%)\n",
    "\n",
    "Helps us to separated color luminance from color information "
   ]
  },
  {
   "cell_type": "code",
   "execution_count": 4,
   "id": "sitting-clearance",
   "metadata": {},
   "outputs": [],
   "source": [
    "# cv2.namedWindow(\"Tracking Window\")\n",
    "\n",
    "while True:\n",
    "    frame = cv2.imread(\"smarties.png\")\n",
    "    \n",
    "    # converting coloured into HSV image\n",
    "    hsv = cv2.cvtColor(frame, cv2.COLOR_BGR2HSV)\n",
    "    # argument (frame_name, cv2.COLOR_BGR2HSV)\n",
    "    \n",
    "    lower_blue_color = np.array([110, 50, 50]) # value comes from exprenice \n",
    "    upper_blue_color = np.array([130, 255, 255])\n",
    "    \n",
    "    mask = cv2.inRange(hsv, lower_blue_color, upper_blue_color) # Threshold\n",
    "    \n",
    "    res = cv2.bitwise_and(frame, frame, mask = mask) # (source1, source2, mask)\n",
    "    \n",
    "    cv2.imshow(\"Image\", frame)\n",
    "    cv2.imshow(\"mask\", mask)\n",
    "    cv2.imshow(\"res\", res)\n",
    "    \n",
    "    key_pressed = cv2.waitKey(1) & 0xFF\n",
    "    if key_pressed == ord('q'):\n",
    "        break\n",
    "\n",
    "cv2.destroyAllWindows()"
   ]
  },
  {
   "cell_type": "markdown",
   "id": "friendly-fourth",
   "metadata": {},
   "source": [
    "Knowing lower bound and upper bound of the color is difficult. Therefore we will use **Trackbars**"
   ]
  },
  {
   "cell_type": "code",
   "execution_count": 5,
   "id": "roman-guide",
   "metadata": {},
   "outputs": [],
   "source": [
    "def nothing(x):\n",
    "    pass"
   ]
  },
  {
   "cell_type": "code",
   "execution_count": 7,
   "id": "spread-guess",
   "metadata": {},
   "outputs": [],
   "source": [
    "cv2.namedWindow(\"Tracking Window\")\n",
    "cv2.createTrackbar(\"Lower Hue\", \"Tracking Window\", 0, 255, nothing)\n",
    "cv2.createTrackbar(\"Lower Saturation\", \"Tracking Window\", 0, 255, nothing)\n",
    "cv2.createTrackbar(\"Lower Value\", \"Tracking Window\", 0, 255, nothing)\n",
    "cv2.createTrackbar(\"Upper Hue\", \"Tracking Window\", 255, 255, nothing)\n",
    "cv2.createTrackbar(\"Upper Saturation\", \"Tracking Window\", 255, 255, nothing)\n",
    "cv2.createTrackbar(\"Upper Value\", \"Tracking Window\", 255, 255, nothing)\n",
    "\n",
    "\n",
    "while True:\n",
    "    frame = cv2.imread(\"smarties.png\")\n",
    "    \n",
    "    # converting coloured into HSV image\n",
    "    hsv = cv2.cvtColor(frame, cv2.COLOR_BGR2HSV)\n",
    "    # argument (frame_name, cv2.COLOR_BGR2HSV)\n",
    "    \n",
    "    LH = cv2.getTrackbarPos(\"Lower Hue\", \"Tracking Window\")\n",
    "    LS = cv2.getTrackbarPos(\"Lower Saturation\", \"Tracking Window\")\n",
    "    LV = cv2.getTrackbarPos(\"Lower Value\", \"Tracking Window\")\n",
    "    \n",
    "    UH = cv2.getTrackbarPos(\"Upper Hue\", \"Tracking Window\")\n",
    "    US = cv2.getTrackbarPos(\"Upper Saturation\", \"Tracking Window\")\n",
    "    UV = cv2.getTrackbarPos(\"Upper Value\", \"Tracking Window\")\n",
    "    \n",
    "    lower_blue_color = np.array([LH, LS, LV]) # now values come from trackbar \n",
    "    upper_blue_color = np.array([UH, US, UV])\n",
    "    \n",
    "    mask = cv2.inRange(hsv, lower_blue_color, upper_blue_color) # Threshold\n",
    "    \n",
    "    res = cv2.bitwise_and(frame, frame, mask = mask) # (source1, source2, mask)\n",
    "    \n",
    "    cv2.imshow(\"Image\", frame)\n",
    "    cv2.imshow(\"mask\", mask)\n",
    "    cv2.imshow(\"res\", res)\n",
    "    \n",
    "    key_pressed = cv2.waitKey(1) & 0xFF\n",
    "    if key_pressed == ord('q'):\n",
    "        break\n",
    "\n",
    "cv2.destroyAllWindows()"
   ]
  },
  {
   "cell_type": "markdown",
   "id": "organic-impact",
   "metadata": {},
   "source": [
    "**For video input**"
   ]
  },
  {
   "cell_type": "code",
   "execution_count": 9,
   "id": "strategic-intake",
   "metadata": {},
   "outputs": [],
   "source": [
    "cap = cv2.VideoCapture(0)\n",
    "\n",
    "fourcc = cv2.VideoWriter_fourcc(*'XVID')\n",
    "output = cv2.VideoWriter(\"detecting_color.avi\", fourcc, 20.0, (640,480))\n",
    "# arguments (output_filename, fourcc, frames per second, width and height)\n",
    "\n",
    "cv2.namedWindow(\"Tracking Window\")\n",
    "cv2.createTrackbar(\"Lower Hue\", \"Tracking Window\", 0, 255, nothing)\n",
    "cv2.createTrackbar(\"Lower Saturation\", \"Tracking Window\", 0, 255, nothing)\n",
    "cv2.createTrackbar(\"Lower Value\", \"Tracking Window\", 0, 255, nothing)\n",
    "cv2.createTrackbar(\"Upper Hue\", \"Tracking Window\", 255, 255, nothing)\n",
    "cv2.createTrackbar(\"Upper Saturation\", \"Tracking Window\", 255, 255, nothing)\n",
    "cv2.createTrackbar(\"Upper Value\", \"Tracking Window\", 255, 255, nothing)\n",
    "\n",
    "\n",
    "while True:\n",
    "    BOOL, frame = cap.read()\n",
    "    \n",
    "    # converting coloured into HSV image\n",
    "    hsv = cv2.cvtColor(frame, cv2.COLOR_BGR2HSV)\n",
    "    # argument (frame_name, cv2.COLOR_BGR2HSV)\n",
    "    \n",
    "    LH = cv2.getTrackbarPos(\"Lower Hue\", \"Tracking Window\")\n",
    "    LS = cv2.getTrackbarPos(\"Lower Saturation\", \"Tracking Window\")\n",
    "    LV = cv2.getTrackbarPos(\"Lower Value\", \"Tracking Window\")\n",
    "    \n",
    "    UH = cv2.getTrackbarPos(\"Upper Hue\", \"Tracking Window\")\n",
    "    US = cv2.getTrackbarPos(\"Upper Saturation\", \"Tracking Window\")\n",
    "    UV = cv2.getTrackbarPos(\"Upper Value\", \"Tracking Window\")\n",
    "    \n",
    "    lower_blue_color = np.array([LH, LS, LV]) # now values come from trackbar \n",
    "    upper_blue_color = np.array([UH, US, UV])\n",
    "    \n",
    "    mask = cv2.inRange(hsv, lower_blue_color, upper_blue_color) # Threshold\n",
    "    \n",
    "    res = cv2.bitwise_and(frame, frame, mask = mask) # (source1, source2, mask)\n",
    "    \n",
    "    cv2.imshow(\"Image\", frame)\n",
    "    cv2.imshow(\"mask\", mask)\n",
    "    \n",
    "    output.write(res)\n",
    "    cv2.imshow(\"res\", res)\n",
    "    \n",
    "    key_pressed = cv2.waitKey(1) & 0xFF\n",
    "    if key_pressed == ord('q'):\n",
    "        break\n",
    "\n",
    "cv2.destroyAllWindows()"
   ]
  },
  {
   "cell_type": "code",
   "execution_count": null,
   "id": "married-discharge",
   "metadata": {},
   "outputs": [],
   "source": []
  }
 ],
 "metadata": {
  "kernelspec": {
   "display_name": "Python 3",
   "language": "python",
   "name": "python3"
  },
  "language_info": {
   "codemirror_mode": {
    "name": "ipython",
    "version": 3
   },
   "file_extension": ".py",
   "mimetype": "text/x-python",
   "name": "python",
   "nbconvert_exporter": "python",
   "pygments_lexer": "ipython3",
   "version": "3.8.8"
  }
 },
 "nbformat": 4,
 "nbformat_minor": 5
}
